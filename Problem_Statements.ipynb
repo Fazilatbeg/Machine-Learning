{
  "cells": [
    {
      "cell_type": "markdown",
      "metadata": {
        "id": "view-in-github",
        "colab_type": "text"
      },
      "source": [
        "<a href=\"https://colab.research.google.com/github/Fazilatbeg/Machine-Learning/blob/main/Problem_Statements.ipynb\" target=\"_parent\"><img src=\"https://colab.research.google.com/assets/colab-badge.svg\" alt=\"Open In Colab\"/></a>"
      ]
    },
    {
      "cell_type": "markdown",
      "metadata": {
        "id": "CEN9NCgN7mNx"
      },
      "source": [
        "## Python Data Type: String - Exercises"
      ]
    },
    {
      "cell_type": "markdown",
      "metadata": {
        "id": "uzG8URCk7mN4"
      },
      "source": [
        "#### 1. Write a Python program to count the number of characters (character frequency) in a string \n",
        "* Sample String : google.com'\n",
        "* Expected Result : {'o': 3, 'g': 2, '.': 1, 'e': 1, 'l': 1, 'm': 1, 'c': 1}"
      ]
    },
    {
      "cell_type": "code",
      "execution_count": 2,
      "metadata": {
        "colab": {
          "base_uri": "https://localhost:8080/"
        },
        "id": "dOHBqT4j7mN6",
        "outputId": "35ef663b-a0f0-45c5-ec0d-e4816ad6435e"
      },
      "outputs": [
        {
          "output_type": "stream",
          "name": "stdout",
          "text": [
            "{'h': 2, 'e': 1, 'l': 2, 'o': 2, ' ': 5, 't': 2, 'i': 3, 's': 3, 'm': 2, 'y': 1, 'f': 1, 'r': 3, 'p': 1, 'g': 1, 'a': 1}\n"
          ]
        }
      ],
      "source": [
        "def char_frequency(str1):\n",
        "  dict = {}\n",
        "  for n in str1:\n",
        "    keys=dict.keys()\n",
        "    if n in keys:\n",
        "      dict[n]+=1\n",
        "    else:\n",
        "      dict[n]=1\n",
        "  return dict\n",
        "print(char_frequency('google.com'))"
      ]
    },
    {
      "cell_type": "markdown",
      "metadata": {
        "id": "7g082Q537mN7"
      },
      "source": [
        "#### 2. Write a Python program to get a string from a given string where all occurrences of its first char have been changed to '$' ,except the first char itself\n",
        "\n",
        "* Sample String : 'restart'\n",
        "* Expected Result : 'resta$t' "
      ]
    },
    {
      "cell_type": "code",
      "execution_count": 4,
      "metadata": {
        "colab": {
          "base_uri": "https://localhost:8080/"
        },
        "id": "qmOP5AGn7mN8",
        "outputId": "f5b84a4e-ff5f-4a34-fb52-3eab029bdbc7"
      },
      "outputs": [
        {
          "output_type": "stream",
          "name": "stdout",
          "text": [
            "resta$t\n"
          ]
        }
      ],
      "source": [
        "def change_char(str1):\n",
        "  char = str1[0]\n",
        "  length = len(str1)\n",
        "  str1 = str1.replace(char, '$')\n",
        "  str1 = char + str1[1:]\n",
        "\n",
        "  return str1\n",
        "\n",
        "print(change_char(\"restart\")) \n"
      ]
    },
    {
      "cell_type": "markdown",
      "metadata": {
        "id": "s_g7kcRf7mN9"
      },
      "source": [
        "#### 3. Write a Python function that takes a list of words and returns the length of the longest one"
      ]
    },
    {
      "cell_type": "code",
      "execution_count": 6,
      "metadata": {
        "collapsed": true,
        "colab": {
          "base_uri": "https://localhost:8080/"
        },
        "id": "s5EpkAT87mN-",
        "outputId": "3b973ca9-f248-40bf-93c1-8a443dfc995e"
      },
      "outputs": [
        {
          "output_type": "stream",
          "name": "stdout",
          "text": [
            "machine learning\n"
          ]
        }
      ],
      "source": [
        "def longest_word(word_list):\n",
        "  word_len = []\n",
        "  for n in word_list:\n",
        "    word_len.append((len(n), n))\n",
        "  word_len.sort()\n",
        "  return word_len[-1][1]\n",
        "\n",
        "print(longest_word([\"python\", \"machine learning\", 'zekelabs']))"
      ]
    },
    {
      "cell_type": "markdown",
      "metadata": {
        "id": "ByxghNUW7mN-"
      },
      "source": [
        "#### 4. Write a Python program to count the occurrences of each word in a given sentence"
      ]
    },
    {
      "cell_type": "code",
      "execution_count": 15,
      "metadata": {
        "collapsed": true,
        "colab": {
          "base_uri": "https://localhost:8080/"
        },
        "id": "WMcjy04n7mOA",
        "outputId": "42df2883-ace3-40aa-9ba8-504ca2c5ced5"
      },
      "outputs": [
        {
          "output_type": "stream",
          "name": "stdout",
          "text": [
            "{'the': 2, 'quick': 1, 'brown': 1, 'fox': 1, 'ate': 1, 'lazy': 1, 'dikshant': 1}\n"
          ]
        }
      ],
      "source": [
        "def word_count(str):\n",
        "  counts = dict()\n",
        "  words = str.split()\n",
        "\n",
        "  for word in words:\n",
        "    if word in counts:\n",
        "      counts[word]+=1\n",
        "    else:\n",
        "      counts[word]=1\n",
        "  return counts\n",
        "\n",
        "print(word_count('the quick brown fox ate the lazy dikshant'))\n"
      ]
    },
    {
      "cell_type": "markdown",
      "metadata": {
        "id": "aQmNeNpr7mOA"
      },
      "source": [
        "#### 5. Write a Python function to convert a given string to all uppercase if it contains at least 2 uppercase characters in the first 4 characters."
      ]
    },
    {
      "cell_type": "code",
      "execution_count": 16,
      "metadata": {
        "collapsed": true,
        "colab": {
          "base_uri": "https://localhost:8080/"
        },
        "id": "o07vfgIO7mOB",
        "outputId": "fae7fe23-cb14-4f59-f4af-494fcc0dd96d"
      },
      "outputs": [
        {
          "output_type": "stream",
          "name": "stdout",
          "text": [
            "Python\n",
            "PYTHON\n"
          ]
        }
      ],
      "source": [
        "def uppercase(str1):\n",
        "  num_upper=0\n",
        "  for letter in str1[:4]:\n",
        "    if letter.upper() == letter:\n",
        "      num_upper+=1\n",
        "  if num_upper>=2:\n",
        "    return str1.upper()\n",
        "  return str1\n",
        "\n",
        "print(uppercase('Python'))\n",
        "print(uppercase('PYthon'))"
      ]
    },
    {
      "cell_type": "markdown",
      "metadata": {
        "id": "f07dk7dr7mOC"
      },
      "source": [
        "#### 6. Write a Python program to count and display the vowels of a given text"
      ]
    },
    {
      "cell_type": "code",
      "execution_count": 19,
      "metadata": {
        "collapsed": true,
        "colab": {
          "base_uri": "https://localhost:8080/"
        },
        "id": "s58RfEQ97mOD",
        "outputId": "8792c35c-fcce-4e23-fa1c-043206963ee6"
      },
      "outputs": [
        {
          "output_type": "stream",
          "name": "stdout",
          "text": [
            "3\n",
            "['e', 'e', 'a']\n"
          ]
        }
      ],
      "source": [
        "def vowel(text):\n",
        "  vowels=\"aeiouAEIOU\"\n",
        "  print(len([letter for letter in text if letter in vowels]))\n",
        "  print([letter for letter in text if letter in vowels])\n",
        "vowel('zekelabs')\n"
      ]
    }
  ],
  "metadata": {
    "kernelspec": {
      "display_name": "Python 3",
      "language": "python",
      "name": "python3"
    },
    "language_info": {
      "codemirror_mode": {
        "name": "ipython",
        "version": 3
      },
      "file_extension": ".py",
      "mimetype": "text/x-python",
      "name": "python",
      "nbconvert_exporter": "python",
      "pygments_lexer": "ipython3",
      "version": "3.6.1"
    },
    "colab": {
      "provenance": [],
      "include_colab_link": true
    }
  },
  "nbformat": 4,
  "nbformat_minor": 0
}