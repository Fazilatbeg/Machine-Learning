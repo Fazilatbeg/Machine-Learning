{
  "cells": [
    {
      "cell_type": "markdown",
      "metadata": {
        "id": "view-in-github",
        "colab_type": "text"
      },
      "source": [
        "<a href=\"https://colab.research.google.com/github/Fazilatbeg/Machine-Learning/blob/main/2_list.ipynb\" target=\"_parent\"><img src=\"https://colab.research.google.com/assets/colab-badge.svg\" alt=\"Open In Colab\"/></a>"
      ]
    },
    {
      "cell_type": "markdown",
      "metadata": {
        "id": "-RHtLjagFo25"
      },
      "source": [
        "## Python Data Type: List - Exercises"
      ]
    },
    {
      "cell_type": "markdown",
      "metadata": {
        "id": "JoncdBU9Fo2_"
      },
      "source": [
        "#### 1. Write a Python program to check a list is empty or not"
      ]
    },
    {
      "cell_type": "code",
      "execution_count": 1,
      "metadata": {
        "collapsed": true,
        "colab": {
          "base_uri": "https://localhost:8080/"
        },
        "id": "4RsvKArgFo3A",
        "outputId": "c19d05bd-2412-4b10-911f-e35c145e9d4d"
      },
      "outputs": [
        {
          "output_type": "stream",
          "name": "stdout",
          "text": [
            "list is empty\n"
          ]
        }
      ],
      "source": [
        "l = []\n",
        "if not l:\n",
        "  print('list is empty')"
      ]
    },
    {
      "cell_type": "markdown",
      "metadata": {
        "id": "frrSisyXFo3B"
      },
      "source": [
        "#### 2. Write a Python program to remove duplicates from a list."
      ]
    },
    {
      "cell_type": "code",
      "execution_count": 3,
      "metadata": {
        "collapsed": true,
        "colab": {
          "base_uri": "https://localhost:8080/"
        },
        "id": "555pfJCZFo3C",
        "outputId": "7dba26f9-ebb1-4658-b8b5-a91d0d962505"
      },
      "outputs": [
        {
          "output_type": "stream",
          "name": "stdout",
          "text": [
            "{10, 20, 50, 30}\n"
          ]
        }
      ],
      "source": [
        "a = [10, 20, 30, 20, 10, 50]\n",
        "print(set(a))"
      ]
    },
    {
      "cell_type": "markdown",
      "metadata": {
        "id": "5awY6o9WFo3C"
      },
      "source": [
        "#### 3. Write a Python function that takes two lists and returns True if they have at least one common member"
      ]
    },
    {
      "cell_type": "code",
      "execution_count": 5,
      "metadata": {
        "collapsed": true,
        "colab": {
          "base_uri": "https://localhost:8080/"
        },
        "id": "VGUzdPjPFo3D",
        "outputId": "c2425f25-c8f1-4aa9-fdba-70120f5b0d89"
      },
      "outputs": [
        {
          "output_type": "stream",
          "name": "stdout",
          "text": [
            "True\n",
            "False\n"
          ]
        }
      ],
      "source": [
        "def common_list(l1, l2):\n",
        "  for n in l1:\n",
        "    if n in l2:\n",
        "      return True\n",
        "  return False\n",
        "\n",
        "print(common_list([1,2,3,5],[4,5,2,6]))\n",
        "print(common_list([2,3],[7,9]))"
      ]
    },
    {
      "cell_type": "markdown",
      "metadata": {
        "id": "AvlHY09PFo3D"
      },
      "source": [
        "#### 4. Write a Python program to get the difference between the two lists"
      ]
    },
    {
      "cell_type": "code",
      "execution_count": 9,
      "metadata": {
        "collapsed": true,
        "colab": {
          "base_uri": "https://localhost:8080/"
        },
        "id": "ERiMKc2-Fo3E",
        "outputId": "5ef895e2-2b8a-4ef1-8035-98dd7f92e44f"
      },
      "outputs": [
        {
          "output_type": "stream",
          "name": "stdout",
          "text": [
            "[1, 4]\n"
          ]
        }
      ],
      "source": [
        "l1 = [1,2,3,4]\n",
        "l2=[2,3]\n",
        "print(list(set(l1)-set(l2)))"
      ]
    },
    {
      "cell_type": "markdown",
      "metadata": {
        "id": "edWiflZhFo3F"
      },
      "source": [
        "#### 5. Write a Python program to find the second smallest number in a list"
      ]
    },
    {
      "cell_type": "code",
      "execution_count": 13,
      "metadata": {
        "collapsed": true,
        "colab": {
          "base_uri": "https://localhost:8080/"
        },
        "id": "9Jk7tMdtFo3G",
        "outputId": "ce66096e-29fe-4818-c873-464ceaea4b20"
      },
      "outputs": [
        {
          "output_type": "stream",
          "name": "stdout",
          "text": [
            "-2\n"
          ]
        }
      ],
      "source": [
        "def second_smallest(numbers):\n",
        "  a1, a2 = float('inf'), float('inf')\n",
        "  for x in numbers:\n",
        "    if x<= a1:\n",
        "      a1, a2=x, a1\n",
        "    elif x<a2:\n",
        "      a2=x\n",
        "  return a2\n",
        "print(second_smallest([1,2,-8,-2,0]))"
      ]
    },
    {
      "cell_type": "markdown",
      "metadata": {
        "id": "Oh0V7fUgFo3H"
      },
      "source": [
        "#### 6.  Write a Python program to find the second largest number in a list."
      ]
    },
    {
      "cell_type": "code",
      "execution_count": 4,
      "metadata": {
        "collapsed": true,
        "colab": {
          "base_uri": "https://localhost:8080/"
        },
        "id": "PgC_UtY5Fo3H",
        "outputId": "bc742506-597d-4974-b1a2-e07a466b60b6"
      },
      "outputs": [
        {
          "output_type": "stream",
          "name": "stdout",
          "text": [
            "inf\n"
          ]
        }
      ],
      "source": [
        "def second_largest(numbers):\n",
        "  counts=0\n",
        "  n1=n2=float('inf')\n",
        "  for x in numbers:\n",
        "    counts += 1\n",
        "    if x > n2:\n",
        "      if x>=n1:\n",
        "        n1, n2=x, n1\n",
        "      else:\n",
        "        n2=x\n",
        "  return n2 if counts>=2 else None\n",
        "\n",
        "print(second_largest([1,2,-8,-2,0]))\n"
      ]
    },
    {
      "cell_type": "markdown",
      "metadata": {
        "id": "lYzgS5XBFo3I"
      },
      "source": [
        "#### 7. Write a Python program to get the frequency of the elements in a list"
      ]
    },
    {
      "cell_type": "code",
      "execution_count": 2,
      "metadata": {
        "collapsed": true,
        "colab": {
          "base_uri": "https://localhost:8080/"
        },
        "id": "07W8KGQzFo3I",
        "outputId": "580518fc-3eb0-4018-cfc2-cf9b9bcee753"
      },
      "outputs": [
        {
          "output_type": "stream",
          "name": "stdout",
          "text": [
            "original list:  [10, 10, 20, 20, 30, 30, 40, 40]\n",
            "frequency of the elements in the list :  Counter({10: 2, 20: 2, 30: 2, 40: 2})\n"
          ]
        }
      ],
      "source": [
        "import collections\n",
        "my_list=[10,10,20,20,30,30,40,40]\n",
        "print(\"original list: \", my_list)\n",
        "ctr=collections.Counter(my_list)\n",
        "print(\"frequency of the elements in the list : \", ctr)"
      ]
    },
    {
      "cell_type": "markdown",
      "metadata": {
        "id": "9H1gCRmqFo3I"
      },
      "source": [
        "#### 8. Write a Python program to convert a list of multiple integers into a single integer\n",
        "* Sample list: [11, 33, 50]\n",
        "* Expected Output: 113350"
      ]
    },
    {
      "cell_type": "code",
      "execution_count": 3,
      "metadata": {
        "collapsed": true,
        "colab": {
          "base_uri": "https://localhost:8080/"
        },
        "id": "o8ZAeXD6Fo3J",
        "outputId": "ca4c779f-8db5-4df5-978b-ee280e44d35b"
      },
      "outputs": [
        {
          "output_type": "stream",
          "name": "stdout",
          "text": [
            "single integer:  113350\n"
          ]
        }
      ],
      "source": [
        "l = [11, 33, 50]\n",
        "x=int(\"\".join(map(str, l)))\n",
        "print(\"single integer: \", x)"
      ]
    },
    {
      "cell_type": "markdown",
      "metadata": {
        "id": "SvO7gEa8Fo3J"
      },
      "source": [
        "#### 9. Write a Python program to compute the similarity between two lists.\n",
        "* Sample data: [\"red\", \"orange\", \"green\", \"blue\", \"white\"], [\"black\", \"yellow\", \"green\", \"blue\"]\n",
        "* Expected Output: \n",
        "* Color1-Color2: ['white', 'orange', 'red']\n",
        "* Color2-Color1: ['black', 'yellow']"
      ]
    },
    {
      "cell_type": "code",
      "execution_count": 1,
      "metadata": {
        "collapsed": true,
        "colab": {
          "base_uri": "https://localhost:8080/"
        },
        "id": "KXzZ9oj7Fo3K",
        "outputId": "6e375b98-80d2-4731-96fa-72043ba26af9"
      },
      "outputs": [
        {
          "output_type": "stream",
          "name": "stdout",
          "text": [
            "Color1-Color2:  ['red', 'orange', 'white']\n",
            "Color2-Color1:  ['black', 'yellow']\n"
          ]
        }
      ],
      "source": [
        "from collections import Counter\n",
        "color1 = [\"red\", \"orange\", \"green\", \"blue\", \"white\"]\n",
        "color2 = [\"black\", \"yellow\", \"green\", \"blue\"]\n",
        "counter1 = Counter(color1)\n",
        "counter2 = Counter(color2)\n",
        "print(\"Color1-Color2: \", list(counter1 - counter2))\n",
        "print(\"Color2-Color1: \", list(counter2 - counter1))\n",
        "\n"
      ]
    },
    {
      "cell_type": "markdown",
      "metadata": {
        "id": "5LFIfk0rFo3K"
      },
      "source": [
        "#### 10. Write a Python program to check if all dictionaries in a list are empty or not.\n",
        "* Sample list : [{},{},{}]\n",
        "* Return value : True\n",
        "* Sample list : [{1,2},{},{}]\n",
        "* Return value : False"
      ]
    },
    {
      "cell_type": "code",
      "execution_count": 17,
      "metadata": {
        "collapsed": true,
        "colab": {
          "base_uri": "https://localhost:8080/"
        },
        "id": "HC12D308Fo3L",
        "outputId": "d52a09ba-793c-444c-debc-b82cb7676683"
      },
      "outputs": [
        {
          "output_type": "stream",
          "name": "stdout",
          "text": [
            "True\n",
            "False\n"
          ]
        }
      ],
      "source": [
        "l1=[{},{},{}]\n",
        "l2=[{1,2},{},{}]\n",
        "print(all(not d for d in l1))\n",
        "print(all(not d for d in l2))"
      ]
    },
    {
      "cell_type": "code",
      "source": [],
      "metadata": {
        "id": "ohLGSzZxPik-"
      },
      "execution_count": null,
      "outputs": []
    }
  ],
  "metadata": {
    "kernelspec": {
      "display_name": "Python 3",
      "language": "python",
      "name": "python3"
    },
    "language_info": {
      "codemirror_mode": {
        "name": "ipython",
        "version": 3
      },
      "file_extension": ".py",
      "mimetype": "text/x-python",
      "name": "python",
      "nbconvert_exporter": "python",
      "pygments_lexer": "ipython3",
      "version": "3.6.1"
    },
    "colab": {
      "provenance": [],
      "include_colab_link": true
    }
  },
  "nbformat": 4,
  "nbformat_minor": 0
}